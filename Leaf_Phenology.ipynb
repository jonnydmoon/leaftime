{
 "metadata": {
  "name": ""
 },
 "nbformat": 3,
 "nbformat_minor": 0,
 "worksheets": [
  {
   "cells": [
    {
     "cell_type": "heading",
     "level": 1,
     "metadata": {},
     "source": [
      "CS 109 Final Project:  Real time leaf phenology predictor"
     ]
    },
    {
     "cell_type": "heading",
     "level": 2,
     "metadata": {},
     "source": [
      "Steve Klosterman, Nurul Zaman, and Jonny Moon"
     ]
    },
    {
     "cell_type": "heading",
     "level": 1,
     "metadata": {},
     "source": [
      "Step one:  download and unzip these two directories in the same directory as this notebook:  https://www.dropbox.com/s/ytm971qet4a9oeb/DAYMET.zip and https://www.dropbox.com/s/8907jxk622fp5ti/MODIS.zip"
     ]
    },
    {
     "cell_type": "markdown",
     "metadata": {},
     "source": [
      "The goal of this project is to create a real time leaf phenology predictor for deciduous trees in the Boston area. Leaf phenology is the seasonal timing of leaf development and is of general public interest for amateur naturalists who are interested in when leaves emerge in spring, and change colors in fall. The timing of these natural biological phenomena is driven by abiotic drivers, primarily the seasonal cycle of temperature. Accordingly, the real time predictor will use temperature data from weather forecasts to create phenological forecasts, specific to the geographic location of the user. Predictions will be made with a logistic regression model, trained on historical temperature and phenology data."
     ]
    },
    {
     "cell_type": "code",
     "collapsed": false,
     "input": [
      "#Import packages\n",
      "\n",
      "#Math\n",
      "import numpy as np\n",
      "\n",
      "# #For reading netcdf files\n",
      "# import Nio\n",
      "\n",
      "#Plotting\n",
      "import matplotlib.pyplot as plt\n",
      "%matplotlib inline \n",
      "\n",
      "#For logistic regression\n",
      "from sklearn.linear_model import LogisticRegression\n",
      "\n",
      "#May want to include description of how to get this Python package and why it is necessary\n",
      "#(to open netcdf files, a common file format in the earth science community.  wikipedia)"
     ],
     "language": "python",
     "metadata": {},
     "outputs": [],
     "prompt_number": 1
    },
    {
     "cell_type": "heading",
     "level": 1,
     "metadata": {},
     "source": [
      "Historical temperature data and degree day sums"
     ]
    },
    {
     "cell_type": "markdown",
     "metadata": {},
     "source": [
      "For centuries, plant phenology has been recognized to depend on degree day temperature sums, and this is still a widely used model for phenology forecasts and hindcasts (Richardson et al, 2006).  To train the model on historical phenology data, the DAYMET data set of spatially explicit climatic data will be used: http://daymet.ornl.gov/.  DAYMET data including a region approximately 100km by 100km, centered on Boston, was obtained to demonstrate the concept outlined in this project.  DAYMET data is available in NetCDF format (http://en.wikipedia.org/wiki/NetCDF), however we have reformatted the data as numpy variables for this project.  The following cell shows how the DAYMET data is used to calculate spatially explicit degree day sums.  There are two DAYMET arrays for daily minimum and maximum temperature at each DAYMET grid point, averaged to approximate mean daily temperature.  Each grid point corresponds to a geographical location with associated latitude and longitude.  This data is used to calculate the degree day sum (GDD) for day of year (DOY) t, which represents accumulated warmth above a threshold temperature $T_{base}$ over the course of the year:\n",
      "\n",
      "$$GDD(t) = \\sum_{t=1}^{365} f(t) + f(t-1)$$\n",
      "\n",
      "where\n",
      "\n",
      "$$f(t)= \\mathrm{min} \\left( \\frac{ T_\\mathrm{max}(t) + T_\\mathrm{min}(t) }{2}-T_\\mathrm{base} , 0 \\right)$$"
     ]
    },
    {
     "cell_type": "code",
     "collapsed": false,
     "input": [
      "def DAYMET_wdd(year, baseTemp, start_doy, chill):\n",
      "    #Uses the DAYMET data to compute an array of degree days, with start date start_doy\n",
      "    #This function relies on the Nio api, which requires installation.  For grading purposes\n",
      "    #we have linked the output files from this function that can be downloaded to avoid the\n",
      "    #need for this.  For more info on Nio, see http://www.pyngl.ucar.edu/Nio.shtml\n",
      "    #\n",
      "    #inputs\n",
      "    #year (int), the year to calculate warming degree days\n",
      "    #baseTemp (int), the base temperature for the degree day sum\n",
      "    #start_doy (int), day of year to begin the summation on\n",
      "    #chill (str), 'yes' or 'no' to indicate whether using model in chilling formulation.\n",
      "    #\n",
      "    #output\n",
      "    #wdd (numpy array), a (365, 252, 216) array with the degree day sum for each\n",
      "    #day of the year at each DAYMET grid point\n",
      "    \n",
      "    #open the netcdf files with DAYMET data\n",
      "    tmax_file = Nio.open_file('./DAYMET/' + str(year) +'/tmax.nc')\n",
      "    tmin_file = Nio.open_file('./DAYMET/' + str(year) +'/tmin.nc')\n",
      "    \n",
      "    #get the temperature and coordinates variables as NioVariables\n",
      "    tmax_var = tmax_file.variables['tmax']\n",
      "    tmin_var = tmin_file.variables['tmin']\n",
      "    \n",
      "    lat_var1 = tmax_file.variables['lat']\n",
      "    lon_var1 = tmax_file.variables['lon']\n",
      "    \n",
      "    #put values from NioVariables in numpy arrays\n",
      "    tmax = tmax_var.get_value()\n",
      "    tmin = tmin_var.get_value()\n",
      "    tavg = (tmax + tmin)/2\n",
      "    \n",
      "    daymet_lat = lat_var1.get_value()\n",
      "    daymet_lon = lon_var1.get_value()\n",
      "    \n",
      "    #Warming degree day sum for each DAYMET point, for each DOY\n",
      "    # \"from January 1 (spring)\"\n",
      "    # \"HDD4 provides the best fit\"\n",
      "    \n",
      "    #deg C\n",
      "#     baseTemp = 4\n",
      "    \n",
      "    DAYMET_data_shape = np.shape(tavg)\n",
      "    # (365, 252, 216)\n",
      "    \n",
      "    #Initialize, maybe with zeros would be okay?  degree day sum should\n",
      "    #be zero before start date.  This seemed to be the fill value for\n",
      "    #the degree day sum time series anyways.\n",
      "    wdd = np.zeros(DAYMET_data_shape)\n",
      "    \n",
      "    startDateIndex = start_doy - 1;\n",
      "    \n",
      "    for i in range(startDateIndex, DAYMET_data_shape[0]):\n",
      "        #How much above the base temp is the avg temp\n",
      "        thisDay = tavg[i,:,:] - baseTemp\n",
      "        if chill == 'yes':\n",
      "            #Express chilling below the baseTemp as a positive sum\n",
      "            thisDay = -thisDay\n",
      "            \n",
      "        #Turn negatives to zero\n",
      "        thisDay[thisDay<0] = 0\n",
      "        if i == 0:\n",
      "            #First day of year\n",
      "            wdd[i,:,:] = thisDay\n",
      "        else:\n",
      "            #Add to previous day's sum\n",
      "            wdd[i,:,:] = thisDay + wdd[i-1,:,:]\n",
      "    \n",
      "    return wdd"
     ],
     "language": "python",
     "metadata": {},
     "outputs": [],
     "prompt_number": 2
    },
    {
     "cell_type": "heading",
     "level": 1,
     "metadata": {},
     "source": [
      "Phenology data"
     ]
    },
    {
     "cell_type": "markdown",
     "metadata": {},
     "source": [
      "We obtained phenology data for the region around Boston from the MODIS (moderate resolution imaging spectroradiometer) instrument.  Two MODIS radiometers are mounted on satellites and measure light reflected from the earth's surface, at 500 m spatial resolution, in seven wavebands, including visible light in the red, green, and blue regions, as well as infrared light.  The data is available via the MODIS web service (https://daac.ornl.gov/MODIS/MODIS-menu/modis_webservice.html) and was processed in Matlab using software the group had developed for a previous project:  https://github.com/klostest/PhenoCamAnalysis/tree/master/phenoFit_v1_0 (Klosterman et al, unpublished).  \n",
      "\n",
      "Roughly speaking, we created MODIS time series representing seasonal vegetation activity, using visible and infrared surface reflectances with 8 day temporal resolution.  The data was smoothed and phenological dates were estimated by a threshold crossing method.  From these tresholds, we identify five key phenology dates:  the beginning (bud break) and end of leaf expansion in spring, as well as the beginning of leaf coloring, the most intense leaf coloring, and the end of leaf drop in autumn.  The process for date estimation was similar to that described here:  http://www2.geog.ucl.ac.uk/~plewis/geogg124/modelling.html#models-of-phenology.\n",
      "\n",
      "To see the extent of the MODIS data, here are images of the red, green and blue bands on a few representative dates before, during, and after leaf expansion, and during autumn in, the study area:\n",
      "\n",
      "<td><img src=\"http://people.fas.harvard.edu/~klosterman/img/CS_109_MODIS_RGB_2004.jpg\"></td>\n",
      "\n",
      "Since we will use degree day sums to predict phenology, and get the phenology data from MODIS, we must first harmonize these two spatially explicit data sets.  The MODIS data are associated with 500 meter pixels, which are land areas which look like a square, 500 meters on a side, in the sinusoidal projection used by MODIS:  https://lpdaac.usgs.gov/products/modis_overview .  In more typical map projections, these areas look like parallelograms.\n",
      "\n",
      "We harmonize the MODIS and DAYMET data by taking the geographic coordinates of the center of each of the 40401 MODIS pixels in the study area, and finding the indices of the DAYMET grid point closest to it."
     ]
    },
    {
     "cell_type": "code",
     "collapsed": false,
     "input": [
      "#For each MODIS pixel, get the distance to the nearest DAYMET point, and the\\\n",
      "#corresponding indices\n",
      "nPixels = 40401\n",
      "minIndices = np.empty([nPixels,2])\n",
      "minDist = np.empty(nPixels,)\n",
      "\n",
      "#Load MODIS and DAYMET coordinates from file\n",
      "MODIS_coords = np.genfromtxt('./MODIS/CS_109_MODIS_Lat_Lon.csv', delimiter=',')\n",
      "daymet_lat = np.load('./DAYMET/daymet_lat.npy')\n",
      "daymet_lon = np.load('./DAYMET/daymet_lon.npy')\n",
      "\n",
      "for i in range(0,nPixels):\n",
      "#     print coord\n",
      "    #for each MODIS pixel, calculate the distance from all DAYMET pixels\n",
      "    distFromDaymet = np.sqrt( np.power( (MODIS_coords[i,0] - daymet_lat), 2) \\\n",
      "                             + np.power( (MODIS_coords[i,1] - daymet_lon), 2 ) )\n",
      "#     print np.shape(distFromDaymet)\n",
      "    #find the value and index of minimum distance\n",
      "    minDist[i] = np.min(distFromDaymet)\n",
      "    \n",
      "    #Create boolean array to find indices of this grid point\n",
      "    minDistLogical = distFromDaymet == minDist[i]\n",
      "    zerosToFindMin = np.zeros(np.shape(minDistLogical))\n",
      "    zerosToFindMin[minDistLogical] = 1\n",
      "    minIndices[i,:] = np.nonzero(zerosToFindMin)"
     ],
     "language": "python",
     "metadata": {},
     "outputs": [],
     "prompt_number": 3
    },
    {
     "cell_type": "heading",
     "level": 1,
     "metadata": {},
     "source": [
      "Combining the temperature and phenology data"
     ]
    },
    {
     "cell_type": "markdown",
     "metadata": {},
     "source": [
      "Now that we have the geographic correspondence between the MODIS and DAYMET data, here is a function that returns the degree day sum for a given day of year, at every MODIS pixel"
     ]
    },
    {
     "cell_type": "code",
     "collapsed": false,
     "input": [
      "#Function to get degree day sums for given day of year\n",
      "def GDD_for_DOY(wdd, minIndices, DOY, nPixels):\n",
      "    #Inputs\n",
      "    #wdd, (365,n,n) numpy array, is the DAYMET derived warming degree days\n",
      "    #minIndices, (nPixels,2) array, is correspondence between DAYMET and MODIS grid points\n",
      "    #DOY is the desired DOY to get GDDs\n",
      "    #nPixels is the number of MODIS pixels\n",
      "    #Outputs\n",
      "    #GDD_for_DOY is (nPixels,) with the GDDs for each pixel on the given DOY\n",
      "    \n",
      "    GDD_for_DOY = np.empty([nPixels,])\n",
      "    \n",
      "    for i in range(0,nPixels):\n",
      "        #the spring date for this MODIS pixel\n",
      "#         thisDate = springDates[i]\n",
      "        #Subtract one for python indexing\n",
      "        GDD_for_DOY[i] = wdd[DOY-1, minIndices[i,0], minIndices[i,1]]\n",
      "    return GDD_for_DOY"
     ],
     "language": "python",
     "metadata": {},
     "outputs": [],
     "prompt_number": 4
    },
    {
     "cell_type": "markdown",
     "metadata": {},
     "source": [
      "Here is another function for looking up the number of degree days which have been accumulated by a certain phenological transition."
     ]
    },
    {
     "cell_type": "code",
     "collapsed": false,
     "input": [
      "def getGDDs_byThresh(transThresh, wdd, MODIS_dates, minIndices):\n",
      "    #For each MODIS pixel, get the growing degree days for a given phenological transition,\n",
      "    #using data from the the closest DAYMET grid point\n",
      "    #\n",
      "    #inputs\n",
      "    #transThresh (int), between 1 and 9, corresponding to the 0.1, 0.2, ... 0.9 thresholds\n",
      "    #wdd (numpy array), output from DAYMET_wdd above\n",
      "    #MODIS_dates (numpy array), loaded from CSV above.\n",
      "    #minIndices (numpy array), indices for geographical correspondence of MODIS and DAYMET\n",
      "    #grid points\n",
      "    \n",
      "    #Need to subtract one to index the column\n",
      "    dates = MODIS_dates[:,transThresh-1]\n",
      "    #Round down partial days\n",
      "    dates = np.floor(dates)\n",
      "    \n",
      "    #What is the number of MODIS pixels?\n",
      "    nPixels = np.shape(MODIS_dates)[0]\n",
      "    #initialize variable\n",
      "    thisGDD = np.empty(nPixels,)\n",
      "    \n",
      "    #Spring\n",
      "    #For each MODIS pixel\n",
      "    for i in range(0,nPixels):\n",
      "        #the spring date for this MODIS pixel\n",
      "        thisDate = dates[i]\n",
      "        thisGDD[i] = wdd[thisDate-1, minIndices[i,0], minIndices[i,1]]\n",
      "    return thisGDD"
     ],
     "language": "python",
     "metadata": {},
     "outputs": [],
     "prompt_number": 5
    },
    {
     "cell_type": "markdown",
     "metadata": {},
     "source": [
      "Now we can do some exploratory data analysis, by examining the distribution of degree day sums for all MODIS pixels when they undergo a particular phenological transition.  We load the MODIS spring phenology dates and DAYMET data from 2007 to demonstrate this:"
     ]
    },
    {
     "cell_type": "code",
     "collapsed": false,
     "input": [
      "year = 2007\n",
      "\n",
      "MODIS_dates_spring_2007 = \\\n",
      "np.genfromtxt('./MODIS/springDates_' + str(year) +'.csv', delimiter=',')\n",
      "\n",
      "wdd_07 = np.load('./DAYMET/wdd_2007.npy')"
     ],
     "language": "python",
     "metadata": {},
     "outputs": [],
     "prompt_number": 6
    },
    {
     "cell_type": "markdown",
     "metadata": {},
     "source": [
      "Then we plot the degree day sums for the beginning, middle, and end of spring:"
     ]
    },
    {
     "cell_type": "code",
     "collapsed": false,
     "input": [
      "spring_GDDs = np.empty([nPixels,3])\n",
      "plotColors = ['red', 'blue', 'yellow']\n",
      "\n",
      "#These transition thresholds correspond to the beginning, middle, and end\n",
      "transThreshes = [1, 5, 9]\n",
      "\n",
      "for i in range(0,3):\n",
      "    spring_GDDs[:,i] = getGDDs_byThresh(transThreshes[i],\\\n",
      "                                        wdd_07, MODIS_dates_spring_2007, minIndices)\n",
      "    plotData = spring_GDDs[:,i]\n",
      "    plotOutput = plt.hist(plotData[plotData != 0], 100, color=plotColors[i])\n",
      "    plt.hold(True)\n",
      "\n",
      "plt.xlim([0, 1400])\n",
      "plt.xlabel('Degree day sum at transition')\n",
      "plt.ylabel('Number of MODIS pixels')"
     ],
     "language": "python",
     "metadata": {},
     "outputs": [
      {
       "metadata": {},
       "output_type": "pyout",
       "prompt_number": 7,
       "text": [
        "<matplotlib.text.Text at 0x1074fcfd0>"
       ]
      },
      {
       "metadata": {},
       "output_type": "display_data",
       "png": "[encoded data removed]",
       "text": [
        "<matplotlib.figure.Figure at 0x10251cbd0>"
       ]
      }
     ],
     "prompt_number": 7
    },
    {
     "cell_type": "markdown",
     "metadata": {},
     "source": [
      "We can see that there is a distribution with a clear mode for each transition.  However there is considerable variability about the mode.  Different plants respond to the same degree day sum in different ways, so a probabilistic description of plant phenology is appropriate."
     ]
    },
    {
     "cell_type": "heading",
     "level": 1,
     "metadata": {},
     "source": [
      "Preparing to fit the model"
     ]
    },
    {
     "cell_type": "markdown",
     "metadata": {},
     "source": [
      "We choose a logistic regression to describe leaf phenology.  This model is analagous to the voting prediction in homework two.  In this case, a section of land surface has the opportunity to \"vote\" each day on whether to advance to the next phenological stage, based on the degree day sum.  To implement this we need time series with the current phenological stage for each MODIS pixel:"
     ]
    },
    {
     "cell_type": "code",
     "collapsed": false,
     "input": [
      "def get_phenoStatus(MODIS_dates, doy_vec):\n",
      "    #Create a vector for each DOY with the phenological status of every\n",
      "    #MODIS pixel\n",
      "    #0 for not having undergone the 0.1 transition, 1 after, then 2, 3, etc up to 9\n",
      "    #\n",
      "    #Inputs\n",
      "    #\n",
      "    #MODIS_dates, array with dates of transitions for every MODIS pixel\n",
      "    #\n",
      "    #doy_vec, days of year to make the phenoStatus array\n",
      "    #\n",
      "    #Outputs\n",
      "    #\n",
      "    #phenoStatus, nPixels x 200 array with the status on these DOYs\n",
      "    \n",
      "    nRows = np.shape(MODIS_dates)[0]\n",
      "    phenoStatus = np.empty([nRows, len(doy_vec)])\n",
      "    \n",
      "    #Round down partial days to use as indices\n",
      "    MODIS_dates_floor = np.floor(MODIS_dates)\n",
      "    #Print example row of dates\n",
      "#     print MODIS_dates_floor[0,:]\n",
      "    \n",
      "    #To use MODIS dates as indices corresponding to input DOY vector, necessary to\n",
      "    #subtract the start date of the doy series minus one\n",
      "    MODIS_dates_floor = MODIS_dates_floor - (min(doy_vec) - 1);\n",
      "\n",
      "    for i in range(0, nRows):\n",
      "        #There are 9 dates but this could be generalized\n",
      "        for j in range(0, 9):\n",
      "#             print j\n",
      "            if j == 0:\n",
      "                phenoStatus[i, 0:(MODIS_dates_floor[i, j]-2)] = j\n",
      "            elif j < 8:\n",
      "                phenoStatus[i, (MODIS_dates_floor[i, j-1]-1):(MODIS_dates_floor[i, j]-1)] = j\n",
      "            elif j == 8:\n",
      "                phenoStatus[i, (MODIS_dates_floor[i, j-1]-1):(MODIS_dates_floor[i, j]-1)] = j\n",
      "                phenoStatus[i, (MODIS_dates_floor[i, j]-1):200] = 9\n",
      "\n",
      "    return phenoStatus"
     ],
     "language": "python",
     "metadata": {},
     "outputs": [],
     "prompt_number": 12
    },
    {
     "cell_type": "markdown",
     "metadata": {},
     "source": [
      "Let's see what the progression of springtime looks like a MODIS pixel.  For future use, we alse generate the autumn time series here. Day of year 200 (July 19) is used as the dividing point for the spring phenology and autumn phenology of leaves."
     ]
    },
    {
     "cell_type": "code",
     "collapsed": false,
     "input": [
      "#First generate the time series\n",
      "start = 1; stop = 200;\n",
      "phenoStatus_spring_doy = np.linspace(start, stop, stop-start+1);\n",
      "phenoStatus_spring = get_phenoStatus(MODIS_dates_spring_2007, phenoStatus_spring_doy)\n",
      "\n",
      "MODIS_dates_fall_07 = np.genfromtxt('./MODIS/fallDates_' + str(year) +'.csv', delimiter=',')\n",
      "start = 201; stop = 365;\n",
      "phenoStatus_fall_doy = np.linspace(start, stop, stop-start+1);\n",
      "phenoStatus_fall = get_phenoStatus(MODIS_dates_fall_07, phenoStatus_fall_doy)"
     ],
     "language": "python",
     "metadata": {},
     "outputs": [],
     "prompt_number": 13
    },
    {
     "cell_type": "code",
     "collapsed": false,
     "input": [
      "#Then plot a representative MODIS pixel\n",
      "plt.plot(phenoStatus_spring_doy, phenoStatus_spring[1000,:])\n",
      "plt.xlabel('Day of year 2007')\n",
      "plt.ylabel('Discrete phenological stage')"
     ],
     "language": "python",
     "metadata": {},
     "outputs": [
      {
       "metadata": {},
       "output_type": "pyout",
       "prompt_number": 14,
       "text": [
        "<matplotlib.text.Text at 0x106db43d0>"
       ]
      },
      {
       "metadata": {},
       "output_type": "display_data",
       "png": "[encoded data removed]",
       "text": [
        "<matplotlib.figure.Figure at 0x106db7fd0>"
       ]
      }
     ],
     "prompt_number": 14
    },
    {
     "cell_type": "markdown",
     "metadata": {},
     "source": [
      "Now we have the data which we hope to predict, which is phenological progression through time.  This data will be reformulated into binary data to train the logistic regression.  At this point we need the features to train the logistic, which are degree day sums for all the MODIS pixels.  In this function, we also create a quality control mask.  MODIS measures the entire surface of the earth, including areas where we would not expect to observe deciduous tree phenology, such as the ocean and developed urban spaces.  In these areas the MODIS date estimation algorithm tends to identify zeros as transition dates.  Since zeros are also used as fill values in the DAYMET data, we make a combined zero mask that will be used to make sure we are only training the model using data from locations where there are probably deciduous trees, and we have temperature data."
     ]
    },
    {
     "cell_type": "code",
     "collapsed": false,
     "input": [
      "def make_degree_day_feature(wdd, minIndices, MODIS_dates, nPixels, doy_vec):\n",
      "    #Make array of degree day sums for each MODIS pixel for spring time, and a mask\n",
      "    #for later exclusion of fill values\n",
      "    #\n",
      "    #Inputs\n",
      "    #\n",
      "    #wdd, 3d numpy array with warming degree day sums for each day of year, for each\n",
      "    #DAYMET grid point\n",
      "    #\n",
      "    #minIndices, (nPixels,2) array with indices of the DAYMET grid point corresponding\n",
      "    #to each MODIS grid point\n",
      "    #\n",
      "    #MODIS_dates, numpy array input from csv\n",
      "    #\n",
      "    #nPixels, number of MODIS pixels\n",
      "    #\n",
      "    #doy_vec, numpy array of DOYs\n",
      "    #\n",
      "    #Outputs\n",
      "    #\n",
      "    #spring_GDDs (nPixels, len(doy_vec)) array of growing degree day sums\n",
      "    #\n",
      "    #zeroMask (nPixels,), logical array with True where both the MODIS date algorithm\n",
      "    #successfully extracted a date, i.e. does not have the fill value of zero\n",
      "    #, and the DAYMET degree day sum is not zero, and False elsewhere\n",
      "    \n",
      "    #Mask all MODIS dates for a pixel if any of them weren't\n",
      "    #successfully estimated\n",
      "    #This assumes three thresholds but could be generalized\n",
      "    #Make a MODIS mask based on springDates for all pixels that have a fill value for any transition\n",
      "    for i in range(0,9):\n",
      "        if i == 0:\n",
      "            MODIS_zero_mask = (MODIS_dates[:,i] != 0)\n",
      "        else:\n",
      "            MODIS_zero_mask = MODIS_zero_mask & (MODIS_dates[:,i] != 0)\n",
      "    \n",
      "    #Compute feature\n",
      "    #on unmasked springDates array to preserve MODIS index\n",
      "    #correspondence with DAYMET data\n",
      "    GDDs = np.empty([nPixels,len(doy_vec)])\n",
      "    \n",
      "    #Make a similar DAYMET zero mask\n",
      "    for i in range(0,len(doy_vec)):\n",
      "        GDDs[:,i] = GDD_for_DOY(wdd, minIndices, doy_vec[i], nPixels)\n",
      "        if i == len(doy_vec)-1:   #Apparently fill values, use on last day of analysis\n",
      "            DAYMET_zero_mask = (GDDs[:,i] != 0)\n",
      "    \n",
      "    #Combine MODIS and DAYMET masks\n",
      "    zeroMask = MODIS_zero_mask & DAYMET_zero_mask\n",
      "    \n",
      "    return GDDs, zeroMask"
     ],
     "language": "python",
     "metadata": {},
     "outputs": [],
     "prompt_number": 15
    },
    {
     "cell_type": "markdown",
     "metadata": {},
     "source": [
      "We are ready now to define the function that will create the logistic regressions and train them.  The trained models will be exported for use in phenology predictions on the web site."
     ]
    },
    {
     "cell_type": "code",
     "collapsed": false,
     "input": [
      "def logRegs(feature, binary, reg=0.0001):\n",
      "    #Description:  this function takes a degree day sum feature and a transition time series\n",
      "    #output from the phenoStatusSpring function\n",
      "    #It then trains a separate logistic regression model using a binary for each transition\n",
      "    #\n",
      "    #Inputs\n",
      "    #\n",
      "    #feature (nPixels, t) array of growing degree day sums as described above\n",
      "    #\n",
      "    #binary, an (nPixels, t) array where t is the number of tresholds\n",
      "    #input in transThreshes.  Has a one or a zero as described above\n",
      "    #\n",
      "    #**** I think binary is actually an array with [0 0 0 1 1 2 ... 9]\n",
      "    #which here is turned into the array of ones and zeros\n",
      "    #\n",
      "    #reg (float), regularization parameter as described above, default=0.0001\n",
      "    #\n",
      "    #Outputs\n",
      "    #\n",
      "    #logReg, list (t items) of logistic regression objects trained on the input\n",
      "    #feature and binary\n",
      "\n",
      "    #Empty list\n",
      "    logReg = []\n",
      "    #How many models to fit? (how many classes, or phenological transitions, are there?)\n",
      "    nModels = np.int(np.max(binary))\n",
      "    print nModels\n",
      "    \n",
      "    for i in range(0, nModels):\n",
      "        #append list with a new regression object\n",
      "        temp = LogisticRegression(C=reg)\n",
      "        logReg.append(temp)\n",
      "        \n",
      "        #Make a binary classification for each transition.  Ones if the time series is\n",
      "        #past the transition, zeros if not.\n",
      "        this_binary = np.copy(binary)\n",
      "        this_binary[this_binary<i+1] = 0\n",
      "        this_binary[this_binary>=i+1] = 1\n",
      "        \n",
      "        #This should be just zeros and ones now\n",
      "        print np.unique(this_binary)\n",
      "        #Fit the model\n",
      "        logReg[i].fit(feature, this_binary)\n",
      "\n",
      "    return logReg"
     ],
     "language": "python",
     "metadata": {},
     "outputs": [],
     "prompt_number": 16
    },
    {
     "cell_type": "heading",
     "level": 1,
     "metadata": {},
     "source": [
      "Fitting the model"
     ]
    },
    {
     "cell_type": "markdown",
     "metadata": {},
     "source": [
      "To illustrate how the model works, we train the spring model on a single year of data.  A similar approach is taken for autumn phenology, except using chilling degrees days.  "
     ]
    },
    {
     "cell_type": "code",
     "collapsed": false,
     "input": [
      "#We have already been using the warming degree day sum for data exploration.  Here are the\n",
      "#parameters that generated it, taken from Richardson et al 2006.\n",
      "#Warming degree day sum for each DAYMET point, for each DOY\n",
      "    # \"from January 1 (spring)\"\n",
      "    # \"HDD4 provides the best fit\"\n",
      "#use warming, not chilling degree days for spring\n",
      "\n",
      "#Get chilling degree days for autumn\n",
      "# \"Heating degree-day sums (HDDk) are based on degree-days above the base\n",
      "# temperature, k, whereas chilling degree-days (CDDk) are based on degree-days\n",
      "# below the base temperature, from January 1 (spring) and August 15 (autumn).\"\n",
      "# \"For autumn phenology, Model 2 works reasonably well with any base temperature \u226520\u00b0C\"\n",
      "# August 15 ~ DOY 227\n",
      "# baseTemp = 20; start_doy = 227; chill = 'yes';\n",
      "# cdd_07 = DAYMET_wdd(year, baseTemp, start_doy, chill)\n",
      "# np.save('./DAYMET/cdd_07', cdd_07)\n",
      "\n",
      "cdd_07 = np.load('./DAYMET/cdd_07.npy')"
     ],
     "language": "python",
     "metadata": {},
     "outputs": [],
     "prompt_number": 17
    },
    {
     "cell_type": "code",
     "collapsed": false,
     "input": [
      "#Use the warming degree day sums to create a feature to train the\n",
      "#logistic regression model for spring\n",
      "spring_GDDs, spring_zeroMask = \\\n",
      "make_degree_day_feature(wdd_07, minIndices, MODIS_dates_spring_2007,\\\n",
      "                        nPixels, phenoStatus_spring_doy)"
     ],
     "language": "python",
     "metadata": {},
     "outputs": [],
     "prompt_number": 18
    },
    {
     "cell_type": "code",
     "collapsed": false,
     "input": [
      "#Use the chilling degree day sums to create a feature to train the\n",
      "#logistic regression model for autumn\n",
      "fall_GDDs, fall_zeroMask = \\\n",
      "make_degree_day_feature(cdd_07, minIndices, MODIS_dates_fall_07,\\\n",
      "                        nPixels, phenoStatus_fall_doy)"
     ],
     "language": "python",
     "metadata": {},
     "outputs": [],
     "prompt_number": 19
    },
    {
     "cell_type": "code",
     "collapsed": false,
     "input": [
      "#Apply zero masks and reshape data as necessary to feed into model\n",
      "\n",
      "maskedFeature_spring = spring_GDDs[spring_zeroMask,:]\n",
      "maskedBinary_spring = phenoStatus_spring[spring_zeroMask,:]\n",
      "\n",
      "maskedFeature_fall = fall_GDDs[fall_zeroMask,:]\n",
      "maskedBinary_fall = phenoStatus_fall[fall_zeroMask,:]\n",
      "\n",
      "#Reshape for modeling\n",
      "maskedFeature_spring = np.reshape( maskedFeature_spring, \\\n",
      "                                  [ np.shape(maskedFeature_spring)[0]*np.shape(maskedFeature_spring)[1] , 1 ] )\n",
      "maskedBinary_spring = np.reshape( maskedBinary_spring, \\\n",
      "                                 [ np.shape(maskedBinary_spring)[0]*np.shape(maskedBinary_spring)[1] , ] )\n",
      "\n",
      "maskedFeature_fall = np.reshape( maskedFeature_fall, \\\n",
      "                                  [ np.shape(maskedFeature_fall)[0]*np.shape(maskedFeature_fall)[1] , 1 ] )\n",
      "maskedBinary_fall = np.reshape( maskedBinary_fall, \\\n",
      "                                 [ np.shape(maskedBinary_fall)[0]*np.shape(maskedBinary_fall)[1] , ] )\n",
      "\n",
      "# print np.shape(maskedFeature), np.shape(maskedBinary)"
     ],
     "language": "python",
     "metadata": {},
     "outputs": [],
     "prompt_number": 20
    },
    {
     "cell_type": "code",
     "collapsed": false,
     "input": [
      "#Fit the model for spring\n",
      "logReg_spring = logRegs(maskedFeature_spring, maskedBinary_spring, reg=0.0001)\n",
      "# print np.unique(maskedBinary)"
     ],
     "language": "python",
     "metadata": {},
     "outputs": [
      {
       "output_type": "stream",
       "stream": "stdout",
       "text": [
        "9\n",
        "[ 0.  1.]"
       ]
      },
      {
       "output_type": "stream",
       "stream": "stdout",
       "text": [
        "\n",
        "[ 0.  1.]"
       ]
      },
      {
       "output_type": "stream",
       "stream": "stdout",
       "text": [
        "\n",
        "[ 0.  1.]"
       ]
      },
      {
       "output_type": "stream",
       "stream": "stdout",
       "text": [
        "\n",
        "[ 0.  1.]"
       ]
      },
      {
       "output_type": "stream",
       "stream": "stdout",
       "text": [
        "\n",
        "[ 0.  1.]"
       ]
      },
      {
       "output_type": "stream",
       "stream": "stdout",
       "text": [
        "\n",
        "[ 0.  1.]"
       ]
      },
      {
       "output_type": "stream",
       "stream": "stdout",
       "text": [
        "\n",
        "[ 0.  1.]"
       ]
      },
      {
       "output_type": "stream",
       "stream": "stdout",
       "text": [
        "\n",
        "[ 0.  1.]"
       ]
      },
      {
       "output_type": "stream",
       "stream": "stdout",
       "text": [
        "\n",
        "[ 0.  1.]"
       ]
      },
      {
       "output_type": "stream",
       "stream": "stdout",
       "text": [
        "\n"
       ]
      }
     ],
     "prompt_number": 21
    },
    {
     "cell_type": "code",
     "collapsed": false,
     "input": [
      "#Fit the model for fall\n",
      "logReg_fall = logRegs(maskedFeature_fall, maskedBinary_fall, reg=0.0001)\n",
      "# print np.unique(maskedBinary)"
     ],
     "language": "python",
     "metadata": {},
     "outputs": [
      {
       "output_type": "stream",
       "stream": "stdout",
       "text": [
        "9\n",
        "[ 0.  1.]"
       ]
      },
      {
       "output_type": "stream",
       "stream": "stdout",
       "text": [
        "\n",
        "[ 0.  1.]"
       ]
      },
      {
       "output_type": "stream",
       "stream": "stdout",
       "text": [
        "\n",
        "[ 0.  1.]"
       ]
      },
      {
       "output_type": "stream",
       "stream": "stdout",
       "text": [
        "\n",
        "[ 0.  1.]"
       ]
      },
      {
       "output_type": "stream",
       "stream": "stdout",
       "text": [
        "\n",
        "[ 0.  1.]"
       ]
      },
      {
       "output_type": "stream",
       "stream": "stdout",
       "text": [
        "\n",
        "[ 0.  1.]"
       ]
      },
      {
       "output_type": "stream",
       "stream": "stdout",
       "text": [
        "\n",
        "[ 0.  1.]"
       ]
      },
      {
       "output_type": "stream",
       "stream": "stdout",
       "text": [
        "\n",
        "[ 0.  1.]"
       ]
      },
      {
       "output_type": "stream",
       "stream": "stdout",
       "text": [
        "\n",
        "[ 0.  1.]"
       ]
      },
      {
       "output_type": "stream",
       "stream": "stdout",
       "text": [
        "\n"
       ]
      }
     ],
     "prompt_number": 22
    },
    {
     "cell_type": "markdown",
     "metadata": {},
     "source": [
      "This shows how we exported the trained model for use on the website:"
     ]
    },
    {
     "cell_type": "code",
     "collapsed": false,
     "input": [
      "#exporting trained classifier\n",
      "#from stackoverflow via Jonny\n",
      "\n",
      "#To use the classifier, for example,\n",
      "#phenoForecast = logRegObject.predict_proba(growingDegreeForecast)[:,1]\n",
      "#The growing degree days array needs to be 2d with shape (n , 1)\n",
      "\n",
      "#If it's non dimensional, do this\n",
      "# someGDDs = np.ma.atleast_2d(someGDDs)\n",
      "\n",
      "#If then it's (1, n), do this\n",
      "# someGDDs = np.transpose(someGDDs)\n",
      "\n",
      "# Try exporting classifier for beginning of spring\n",
      "\n",
      "# from sklearn.externals import joblib\n",
      "\n",
      "# modelFileName = 'start_of_spring_model' + str(year) + '.pkl'\n",
      "# joblib.dump(logReg_spring[0], modelFileName, compress=9)\n",
      "\n",
      "# modelFileName = 'end_of_spring_model' + str(year) + '.pkl'\n",
      "# joblib.dump(logReg_spring[8], modelFileName, compress=9)"
     ],
     "language": "python",
     "metadata": {},
     "outputs": [],
     "prompt_number": 23
    },
    {
     "cell_type": "heading",
     "level": 1,
     "metadata": {},
     "source": [
      "Exploring and validating model results"
     ]
    },
    {
     "cell_type": "markdown",
     "metadata": {},
     "source": [
      "Now that we've trained the logistic for spring and fall, let's see what the predictions look like for a hypothetical growing degree days time series:"
     ]
    },
    {
     "cell_type": "code",
     "collapsed": false,
     "input": [
      "# Graph of predictions for sample GDD time series\n",
      "start = 0\n",
      "stop = 1200\n",
      "someGDDs = np.linspace(start, stop, (stop-start)/10 + 1)\n",
      "# print someGDDs\n",
      "# print np.shape(someGDDs)\n",
      "\n",
      "# #Get right number of dimesions and shape\n",
      "someGDDs = np.ma.atleast_2d(someGDDs)\n",
      "someGDDs = np.transpose(someGDDs)\n",
      "\n",
      "plt.axes()\n",
      "plotH = []\n",
      "for i in range(0,9):\n",
      "    theseProbs = logReg_spring[i].predict_proba(someGDDs)[:,1]\n",
      "    plt.plot(someGDDs, theseProbs, label=str(i+1))\n",
      "\n",
      "plt.legend(loc='lower right')\n",
      "plt.xlabel('Warming degree days')\n",
      "plt.ylabel('Probability of undergoing spring transition')"
     ],
     "language": "python",
     "metadata": {},
     "outputs": [
      {
       "metadata": {},
       "output_type": "pyout",
       "prompt_number": 28,
       "text": [
        "<matplotlib.text.Text at 0x11aeea810>"
       ]
      },
      {
       "metadata": {},
       "output_type": "display_data",
       "png": "[encoded data removed]",
       "text": [
        "<matplotlib.figure.Figure at 0x11ad29dd0>"
       ]
      }
     ],
     "prompt_number": 28
    },
    {
     "cell_type": "markdown",
     "metadata": {},
     "source": [
      "Intuitively, this seems correct:  the probability of each sequential phenological tranisition increases as degree days increase.  When the cumulative probability is greater than 0.5, this signifies that it's more likely than not that the deciduous trees on this section of land surface have undergone this transition.  Here is similar exploration of the model with chilling degree days for autumn."
     ]
    },
    {
     "cell_type": "code",
     "collapsed": false,
     "input": [
      "# Graph of predictions for sample GDD time series (Fall)\n",
      "start = 0\n",
      "stop = 600\n",
      "someGDDs = np.linspace(start, stop, (stop-start)/10 + 1)\n",
      "# print someGDDs\n",
      "# print np.shape(someGDDs)\n",
      "\n",
      "# #Get right number of dimesions and shape\n",
      "someGDDs = np.ma.atleast_2d(someGDDs)\n",
      "someGDDs = np.transpose(someGDDs)\n",
      "\n",
      "plt.axes()\n",
      "plotH = []\n",
      "for i in range(0,9):\n",
      "    theseProbs = logReg_fall[i].predict_proba(someGDDs)[:,1]\n",
      "    plt.plot(someGDDs, theseProbs, label=str(i+1))\n",
      "plt.legend(loc='lower right')\n",
      "plt.xlabel('Cooling degree days')\n",
      "plt.ylabel('Probability of undergoing fall transition')"
     ],
     "language": "python",
     "metadata": {},
     "outputs": [
      {
       "metadata": {},
       "output_type": "pyout",
       "prompt_number": 29,
       "text": [
        "<matplotlib.text.Text at 0x10811e450>"
       ]
      },
      {
       "metadata": {},
       "output_type": "display_data",
       "png": "[encoded data removed]",
       "text": [
        "<matplotlib.figure.Figure at 0x11ad5b690>"
       ]
      }
     ],
     "prompt_number": 29
    },
    {
     "cell_type": "markdown",
     "metadata": {},
     "source": [
      "We now test the model on out of sample data.  The spring and fall models were parameterized on 2007 data, and we use them to predict leaf phenology events for 2012 for the trees in Boston Common, a park in downtown Boston."
     ]
    },
    {
     "cell_type": "code",
     "collapsed": false,
     "input": [
      "#Load data\n",
      "\n",
      "#Make degree days time series for 2012\n",
      "# year = 2012\n",
      "\n",
      "# baseTemp = 4; start_doy = 1; chill = 'no';\n",
      "# wdd_12 = DAYMET_wdd(year, baseTemp, start_doy, chill)\n",
      "# np.save('./DAYMET/wdd_12', wdd_12)\n",
      "\n",
      "# baseTemp = 20; start_doy = 227; chill = 'yes';\n",
      "# cdd_12 = DAYMET_wdd(year, baseTemp, start_doy, chill)\n",
      "# np.save('./DAYMET/cdd_12', cdd_12)\n",
      "\n",
      "wdd_12 = np.load('./DAYMET/wdd_12.npy')\n",
      "cdd_12 = np.load('./DAYMET/cdd_12.npy')\n",
      "\n",
      "MODIS_dates_2012 = \\\n",
      "    np.genfromtxt('./MODIS/springDates_' + str(2012) +'.csv', delimiter=',')\n",
      "\n"
     ],
     "language": "python",
     "metadata": {},
     "outputs": [],
     "prompt_number": 30
    },
    {
     "cell_type": "code",
     "collapsed": false,
     "input": [
      "# Get predictions for a specific location\n",
      "MODIS_coords = np.genfromtxt('./MODIS/CS_109_MODIS_Lat_Lon.csv', delimiter=',')\n",
      "# Boston Common:  42.3560, -71.0654\n",
      "location_of_interest = [42.3560, -71.0654]\n",
      "lat_diff = location_of_interest[0] - MODIS_coords[:,0]\n",
      "lon_diff = location_of_interest[1] - MODIS_coords[:,1]\n",
      "\n",
      "# print np.shape(lon_diff)\n",
      "\n",
      "#Find the index of the closest MODIS point to Boston Common\n",
      "abs_sum_diff = np.abs(lat_diff) + np.abs(lon_diff)\n",
      "min_index = np.argmin(abs_sum_diff);\n",
      "\n",
      "# print MODIS_coords[min_index,:]\n",
      "\n",
      "#Get warming and chilling time series\n",
      "test_series_w = wdd_12[:, minIndices[min_index,0], minIndices[min_index,1]]\n",
      "test_series_c = cdd_12[:, minIndices[min_index,0], minIndices[min_index,1]]\n",
      "\n",
      "# #Get right number of dimesions and shape\n",
      "test_series_w = np.ma.atleast_2d(test_series_w)\n",
      "test_series_w = np.transpose(test_series_w)\n",
      "test_series_c = np.ma.atleast_2d(test_series_c)\n",
      "test_series_c = np.transpose(test_series_c)\n",
      "\n",
      "#Predict\n",
      "testProbs_spring = logReg_spring[0].predict_proba(test_series_w)[:,1]\n",
      "testProbs_fall = logReg_spring[6].predict_proba(test_series_c)[:,1]\n",
      "\n",
      "#Now need to get DOY corresponding to degree day sum.  Should be index of degree day array\n",
      "#where the probability is closest to 0.5, plus one because of zero based indexing.\n",
      "mostLikely = testProbs_spring - 0.5\n",
      "# print mostLikely\n",
      "predictDay = np.argmin(np.abs(mostLikely)) + 1;\n",
      "print \"The predicted day of spring budburst at Boston Common is DOY\", predictDay\n",
      "# print MODIS_dates_2012[min_index,:]\n",
      "\n",
      "mostLikely = testProbs_fall - 0.5\n",
      "# print mostLikely\n",
      "predictDay = np.argmin(np.abs(mostLikely)) + 1;\n",
      "print \"The predicted day of maximum fall color at Boston Common is DOY\", predictDay"
     ],
     "language": "python",
     "metadata": {},
     "outputs": [
      {
       "output_type": "stream",
       "stream": "stdout",
       "text": [
        "The predicted day of spring budburst at Boston Common is DOY 94\n",
        "The predicted day of maximum fall color at Boston Common is DOY 311\n"
       ]
      }
     ],
     "prompt_number": 31
    },
    {
     "cell_type": "markdown",
     "metadata": {},
     "source": [
      "Day of year 94 is April 3, 2012, while 311 is Nov 6.  The MODIS time series for Boston Common is actually not that great since it's an urban area.  So instead we conduct a visual assessement and compare to images from a publicly available webcam.  Here are images of these dates.\n",
      "\n",
      "\n",
      "\n"
     ]
    },
    {
     "cell_type": "heading",
     "level": 1,
     "metadata": {},
     "source": [
      "April 3, 2012"
     ]
    },
    {
     "cell_type": "markdown",
     "metadata": {},
     "source": [
      "<td><img src=\"http://phenocam.sr.unh.edu/data/archive/bostoncommon/2012/04/bostoncommon_2012_04_04_132253.jpg\"></td>"
     ]
    },
    {
     "cell_type": "heading",
     "level": 1,
     "metadata": {},
     "source": [
      "Nov 6, 2012"
     ]
    },
    {
     "cell_type": "markdown",
     "metadata": {},
     "source": [
      "<td><img src=\"\n",
      "http://phenocam.sr.unh.edu/data/archive/bostoncommon/2012/11/bostoncommon_2012_11_06_131843.jpg\"></td>"
     ]
    },
    {
     "cell_type": "markdown",
     "metadata": {},
     "source": [
      "On the predicted date for spring budburst, it appears as though buds have broken on about half of the trees.  For the predicted date of maximum fall colors, some trees are in full, brilliant senescence with vibrant red and yellow colors.  Other trees still have many green leaves, while yet others have already lost most of their leaves.  This highlights the probabilistic nature of leaf phenology, not only over the spatial scale of the greater Boston region, but also among trees at a given location and even different leaves on the same tree.\n",
      "\n",
      "Considering these many possible sources of variability, we judge this model to be performing pretty well.  In other work not shown here, we trained the model on multiple years of data simultaneously, instead of just one year as was done here.  This did not change the predictions, indicating that the large spatial extent of the geographic region of interest may have contained sufficient climatological variability to effectively constrain the model with just one year of data.\n",
      "\n",
      "Trained models were then exported for use on the website, where they will be combined with weather forecasts to create location specific phenology forecasts."
     ]
    },
    {
     "cell_type": "markdown",
     "metadata": {},
     "source": [
      "***References***\n",
      "\n",
      "Richardson, et al, 2006.  Phenology of a northern hardwood forest canopy.  Global Change Biology 12."
     ]
    }
   ],
   "metadata": {}
  }
 ]
}
